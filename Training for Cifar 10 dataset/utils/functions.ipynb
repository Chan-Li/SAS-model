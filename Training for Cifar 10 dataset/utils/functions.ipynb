{
 "cells": [
  {
   "cell_type": "code",
   "execution_count": null,
   "id": "8fffcacc",
   "metadata": {},
   "outputs": [],
   "source": [
    "import numpy as np\n",
    "def params():\n",
    "    print(\"The functions:relu(y),drelu(y),softmax(y),divi_(lr0,global_step,decay_step),mini_batch_generate(mini_batch_size,data1,label1), sigmoid(beta,mat),dsigmoid(y),turn_2_zero(x)\")\n",
    "def relu(y):\n",
    "    tmp = y.copy()\n",
    "    tmp[tmp < 0] = 0\n",
    "    return tmp\n",
    "def drelu(x):\n",
    "    tmp = x.copy()\n",
    "    tmp[tmp >= 0] = 1\n",
    "    tmp[tmp < 0] = 0\n",
    "    return tmp\n",
    "def softmax(y):\n",
    "    y = y - np.array(y.max(axis=0),ndmin=2)\n",
    "    exp_y = np.exp(y) \n",
    "    sumofexp = np.array(exp_y.sum(axis=0),ndmin=2)\n",
    "    softmax = exp_y/sumofexp\n",
    "    return softmax\n",
    "def divi_(lr0,global_step,decay_step):\n",
    "    return lr0*(0.5**((int(global_step/decay_step))))\n",
    "\n",
    "def mini_batch_generate(mini_batch_size,data1,label1):\n",
    "    data = data1*1\n",
    "    label = label1*1\n",
    "    if (data.shape[1]%mini_batch_size == 0):\n",
    "        n=data.shape[1]\n",
    "    else:\n",
    "        n = (int(data.shape[1]/mini_batch_size))*mini_batch_size\n",
    "    state = np.random.get_state()\n",
    "    np.random.shuffle(((data).T))\n",
    "    np.random.set_state(state)\n",
    "    np.random.shuffle(((label).T))\n",
    "    mini_batches = np.array([data[:,k:k+mini_batch_size] for k in range(0,n,mini_batch_size)])\n",
    "    mini_batches_labels =np.array([label[:,k:k+mini_batch_size] for k in range(0,n,mini_batch_size)])\n",
    "    return mini_batches,mini_batches_labels\n",
    "def sigmoid(beta,mat):\n",
    "    return (1.0/(1+pow(np.e,-beta*mat))).reshape(mat.shape)\n",
    "def dsigmoid(mat):\n",
    "    return (sigmoid(mat)*(1-sigmoid(mat)))\n",
    "def turn_2_zero(x):\n",
    "    return np.int64(x>0)"
   ]
  }
 ],
 "metadata": {
  "kernelspec": {
   "display_name": "Python 3",
   "language": "python",
   "name": "python3"
  },
  "language_info": {
   "codemirror_mode": {
    "name": "ipython",
    "version": 3
   },
   "file_extension": ".py",
   "mimetype": "text/x-python",
   "name": "python",
   "nbconvert_exporter": "python",
   "pygments_lexer": "ipython3",
   "version": "3.8.8"
  }
 },
 "nbformat": 4,
 "nbformat_minor": 5
}
